{
 "cells": [
  {
   "cell_type": "markdown",
   "metadata": {},
   "source": [
    "# Data Science Accelerated Curriculum"
   ]
  },
  {
   "cell_type": "markdown",
   "metadata": {},
   "source": [
    "# A. Courses:"
   ]
  },
  {
   "cell_type": "markdown",
   "metadata": {},
   "source": [
    "## 1. Dunder Data Bootcamp\n",
    "\n",
    "* Unit 1: Pandas Basic\n",
    "* Unit 2: Grouping in Pandas\n",
    "* Unit 3: Tidy Data\n",
    "* Unit 4: Visualization\n",
    "* Unit 5: EDA\n",
    "* Unit 6: Time series & Joins **(Pending repository)**"
   ]
  },
  {
   "cell_type": "markdown",
   "metadata": {},
   "source": [
    "## 2. Pandas Documentation\n",
    "\n",
    "Link: [Pandas Documentation](http://pandas.pydata.org/pandas-docs/stable/)\n",
    "\n",
    "* Intro to Data Structures\n",
    "* Essential Basic Functionality\n",
    "* Working with Text Data\n",
    "* Options and Settings\n",
    "* Indexing and Selecting Data\n",
    "* MultiIndex / Advanced Indexing\n",
    "* Computational tools\n",
    "* Working with missing data\n",
    "* Group By: split-apply-combine\n",
    "* Merge, join, and concatenate\n",
    "* Reshaping and Pivot Tables\n",
    "* Time Series / Date functionality\n",
    "* Time Deltas\n",
    "* Categorical Data\n",
    "* Visualization\n",
    "* Styling\n",
    "* IO Tools (Text, CSV, HDF5, ...)\n"
   ]
  },
  {
   "cell_type": "markdown",
   "metadata": {},
   "source": [
    "## 3. Udacity Data Analyst Nanodegree\n",
    "\n",
    "Link: [Data Analyst Nanodegree](https://www.udacity.com/course/data-analyst-nanodegree--nd002)\n",
    "\n",
    "* Intro to Inferential Statistics\n",
    "* Intro to Descriptive Statistics\n",
    "* Intro to Data Analysis (Using NumPy and Pandas)\n",
    "* Data Wrangling\n",
    "* SQL for Data Analysis\n",
    "* MongoDB for Data Analysis\n",
    "* Data Analysis with R\n",
    "* Intro to Machine Learning\n",
    "* Data Visualization and D3.js\n",
    "* A/B Testing\n",
    "\n"
   ]
  },
  {
   "cell_type": "markdown",
   "metadata": {},
   "source": [
    "## 4. The Analytics Edge -edX (Started)\n",
    "\n",
    "Link: [The Analytics Edge](https://courses.edx.org/courses/course-v1:MITx+15.071x_3+1T2016/course/)\n",
    "\n",
    "* Unit 1: An Introduction to Analytics\n",
    "* Unit 2: Linear Regression\n",
    "* Unit 3: Logistic Regression\n",
    "* Unit 4: Trees\n",
    "* Unit 5: Text Analytics\n",
    "* Unit 6: Clustering\n",
    "* Unit 7: Visualization\n",
    "* Unit 8: Linear Optimization\n",
    "* Unit 9: Integer Optimization"
   ]
  },
  {
   "cell_type": "markdown",
   "metadata": {},
   "source": [
    "## 5. Machine Learning\n",
    "\n",
    "Link: [Coursera](https://www.coursera.org/learn/machine-learning)\n",
    "\n",
    "* Unit 1: An Introduction to Machine Learning\n",
    "* Unit 2: Linear Algebra Review\n",
    "* Unit 3: Linear Regression with multiple variables\n",
    "* Unit 4: Logistic Regression\n",
    "* Unit 5: Regularization\n",
    "* Unit 6: Neural Networks: Representation\n",
    "* Unit 7: Neural Networks: Learning\n",
    "* Unit 8: Advice for Applying Machine Learning\n",
    "* Unit 9: Machine Learning System Design\n",
    "* Unit 10: Support Vector Machines\n",
    "* Unit 11: Unsupervised Learning\n",
    "* Unit 12: Dimensionality Reduction\n",
    "* Unit 13: Anomaly Detection\n",
    "* Unit 14: Recommender Systems\n",
    "* Unit 15: Large Scale Machine Learning\n",
    "* Unit 16: Application Example: Photo OCR\n"
   ]
  },
  {
   "cell_type": "markdown",
   "metadata": {},
   "source": [
    "# B. Reading"
   ]
  },
  {
   "cell_type": "markdown",
   "metadata": {},
   "source": [
    "1. An Introduction to Statistical Learning: with Applications in R (Springer Texts in Statistics)\n",
    "[Link](https://www.amazon.com/Introduction-Statistical-Learning-Applications-Statistics/dp/1461471370/ref=sr_1_1?ie=UTF8&qid=1501521822&sr=8-1&keywords=ISLR)\n",
    "\n",
    "2. The Elements of Statistical Learning: Data Mining, Inference, and Prediction, Second Edition (Springer Series in Statistics)\n",
    "[Link](https://www.amazon.com/Elements-Statistical-Learning-Prediction-Statistics/dp/0387848576/ref=pd_bxgy_14_img_2?_encoding=UTF8&pd_rd_i=0387848576&pd_rd_r=H3EY50WRVFF8Q4KAQ3E3&pd_rd_w=hUYvP&pd_rd_wg=wYZfT&psc=1&refRID=H3EY50WRVFF8Q4KAQ3E3)\n",
    "\n",
    "3. Data Science from Scratch: First Principles with Python\n",
    "[Link](https://www.amazon.com/Data-Science-Scratch-Principles-Python/dp/149190142X/ref=sr_1_1?s=books&ie=UTF8&qid=1501521929&sr=1-1&keywords=data+science+from+scratch)\n",
    "\n",
    "4. Predictive Analytics and Data Mining: Concepts and Practice with RapidMiner\n",
    "[Link](https://www.amazon.com/Predictive-Analytics-Data-Mining-RapidMiner/dp/0128014601/ref=sr_1_3?s=books&ie=UTF8&qid=1501522018&sr=1-3&keywords=rapidminer)\n",
    "\n",
    "5. Storytelling with Data: A Data Visualization Guide for Business Professionals\n",
    "[Link](https://www.amazon.com/Storytelling-Data-Visualization-Business-Professionals/dp/1119002257/ref=sr_1_5?s=books&ie=UTF8&qid=1501522250&sr=1-5&keywords=visualization)\n",
    "\n",
    "6. Data Science for Business: What You Need to Know about Data Mining and Data-Analytic Thinking \n",
    "[Link](https://www.amazon.com/dp/1449361323/ref=sxbs_sxwds-stvp_1?pf_rd_m=ATVPDKIKX0DER&pf_rd_p=2972357942&pd_rd_wg=XNmW5&pf_rd_r=GWYR43NCN1YMYBSP9NME&pf_rd_s=desktop-sx-bottom-slot&pf_rd_t=301&pd_rd_i=1449361323&pd_rd_w=k2ek3&pf_rd_i=data+visualization&pd_rd_r=T89C4W8DCCBYQY3QVZS0&ie=UTF8&qid=1501522300&sr=1)\n",
    "\n",
    "7. Naked Statistics: Stripping the Dread from the Data\n",
    "[Link](https://www.amazon.com/dp/039334777X/ref=sxbs_sxwds-stvp_3?pf_rd_m=ATVPDKIKX0DER&pf_rd_p=2972357942&pd_rd_wg=DUV41&pf_rd_r=JR7RAVNSQXB173B5QBVM&pf_rd_s=desktop-sx-bottom-slot&pf_rd_t=301&pd_rd_i=039334777X&pd_rd_w=NIiYf&pf_rd_i=data+analytics&pd_rd_r=EPF6Q840TX7MJ4MN5RS1&ie=UTF8&qid=1501522368&sr=3)\n"
   ]
  },
  {
   "cell_type": "markdown",
   "metadata": {},
   "source": [
    "## C. Resources\n",
    "\n",
    "* [Data Skeptic Podcast](https://dataskeptic.com)\n",
    "* [Information is Beautiful](http://www.informationisbeautiful.net)\n",
    "* [kaggle](https://www.kaggle.com)\n",
    "* [Data world - Datasets for Analysis](https://data.world)\n",
    "* [Flowing Data](http://flowingdata.com/2016/05/10/who-is-older-and-younger-than-you/)\n",
    "* [Story Telling with Data](http://www.storytellingwithdata.com)\n",
    "* [Our World in Data](https://ourworldindata.org)\n",
    "* [Data Show Podcast](https://www.oreilly.com/topics/oreilly-data-show-podcast)\n",
    "* [Cheat Sheet collection](https://unsupervisedmethods.com/cheat-sheet-of-machine-learning-and-python-and-math-cheat-sheets-a4afe4e791b6)\n",
    "* [R-cheat sheet](https://www.rstudio.com/resources/cheatsheets/)"
   ]
  },
  {
   "cell_type": "code",
   "execution_count": null,
   "metadata": {
    "collapsed": true
   },
   "outputs": [],
   "source": []
  }
 ],
 "metadata": {
  "kernelspec": {
   "display_name": "Python 3",
   "language": "python",
   "name": "python3"
  },
  "language_info": {
   "codemirror_mode": {
    "name": "ipython",
    "version": 3
   },
   "file_extension": ".py",
   "mimetype": "text/x-python",
   "name": "python",
   "nbconvert_exporter": "python",
   "pygments_lexer": "ipython3",
   "version": "3.6.1"
  }
 },
 "nbformat": 4,
 "nbformat_minor": 2
}
